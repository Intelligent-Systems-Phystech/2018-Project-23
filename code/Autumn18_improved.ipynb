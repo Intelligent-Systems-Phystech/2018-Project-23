{
 "cells": [
  {
   "cell_type": "code",
   "execution_count": 1,
   "metadata": {},
   "outputs": [],
   "source": [
    "import numpy as np\n",
    "import pandas as pd\n",
    "\n",
    "from sklearn.datasets import make_regression\n",
    "from scipy.spatial.distance import pdist\n",
    "from scipy.optimize import least_squares\n",
    "\n",
    "from math import floor,ceil,exp\n",
    "from collections import defaultdict\n",
    "from itertools import product\n",
    "from imageio import imread\n",
    "\n",
    "import matplotlib.pyplot as plt\n",
    "import seaborn as sns\n",
    "sns.set_style(\"darkgrid\")\n",
    "# %matplotlib inline"
   ]
  },
  {
   "cell_type": "code",
   "execution_count": 51,
   "metadata": {},
   "outputs": [],
   "source": [
    "class BC:\n",
    "    def __init__(self,X,xi=1e-3,finness=None):\n",
    "        self.X = X\n",
    "        self.lmax = max([x.max() - x.min() for x in X.T])\n",
    "        self.lowers = [x.min() for x in X.T]\n",
    "        self.highers = [x.max() for x in X.T]\n",
    "\n",
    "        if finness == \"random\":\n",
    "            np.random.shuffle(self.X)\n",
    "            delmin = xi * np.array([np.array([np.linalg.norm(x-y) \n",
    "                                         for y in self.X[10:]]).min() \n",
    "                               for x in self.X[:10]]).mean()\n",
    "        elif finness == \"pdist\":\n",
    "            delmin = pdist(X).min()\n",
    "        else:\n",
    "            raise ValueError(\"Wrong argument is given for finness\")   \n",
    "        self.bimax = int(np.log2(self.lmax/delmin))\n",
    "        \n",
    "    def hist(self,delta):\n",
    "        #=========== building histogram =========\n",
    "        filled = defaultdict(int)\n",
    "        mult = np.array([ceil(self.lmax / delta) ** i \n",
    "                               for i in range(self.X.shape[1])])\n",
    "        for x in self.X:\n",
    "            bin_map = np.array([ceil((coord - xmin) / delta) - 1\n",
    "                                if coord == xmax else\n",
    "                                floor((coord - xmin) / delta)\n",
    "                                for coord,xmin,xmax in \n",
    "                                zip(x,self.lowers,self.highers)],dtype=int)\n",
    "            which_box = np.dot(bin_map,mult)\n",
    "            filled[which_box] += 1\n",
    "        return len(filled), filled\n",
    "    \n",
    "    def get_points(self,n_points=40,out=\"CFD\"):\n",
    "        scales = np.logspace(1,self.bimax,num=n_points,base=2)\n",
    "        scales = list(map(round,scales))\n",
    "        Ds = [self.lmax / scale for scale in scales]\n",
    "        N_del,S = [],[]\n",
    "        for delta in Ds:\n",
    "            elem, filled = self.hist(delta)\n",
    "            N_del.append(elem)\n",
    "            \n",
    "            elem = sum([v ** 2 for _,v in filled.items()])\n",
    "            S.append(elem)\n",
    "        if out == \"CFD\":\n",
    "            return np.log2(Ds),np.log2(S)\n",
    "        return np.log2(scales),np.log2(N_del)"
   ]
  },
  {
   "cell_type": "code",
   "execution_count": 42,
   "metadata": {},
   "outputs": [],
   "source": [
    "def msigma(x,a,b,c,d):\n",
    "    return a / (1 + np.exp(b * x + c)) + d\n",
    "\n",
    "def dmsigma(x,a,b,c,d):\n",
    "    return -a * b * exp(b * x + c) / (1 + exp(b * x + c)) ** 2\n",
    "\n",
    "def fun(x,t,y):\n",
    "    return x[0] / (1 + np.exp(x[1] * t + x[2])) + x[3] - y\n",
    "\n",
    "x0 = np.array([1,-3,0,0])\n",
    "\n",
    "def jac_fun(x,t,y):\n",
    "    return np.array(\n",
    "        [1. / (1 + np.exp(x[1] * t + x[2])),\n",
    "        -x[0] * np.exp(x[1] * t + x[2]) * t / (1 + np.exp(x[1] * t + x[2])) ** 2,\n",
    "        -x[0] * np.exp(x[1] * t + x[2]) / (1 + np.exp(x[1] * t + x[2])) ** 2,\n",
    "        np.ones(len(t))]).T"
   ]
  },
  {
   "cell_type": "code",
   "execution_count": 43,
   "metadata": {},
   "outputs": [
    {
     "data": {
      "text/plain": [
       "<matplotlib.collections.PathCollection at 0x25d6da68fd0>"
      ]
     },
     "execution_count": 43,
     "metadata": {},
     "output_type": "execute_result"
    },
    {
     "data": {
      "image/png": "[encoded data removed]",
      "text/plain": [
       "<Figure size 432x288 with 1 Axes>"
      ]
     },
     "metadata": {},
     "output_type": "display_data"
    }
   ],
   "source": [
    "triangle = imread(\"triangle.jpg\")\n",
    "\n",
    "pixels = np.add.reduce(triangle,axis=2)\n",
    "x,y = np.where(pixels==0)\n",
    "data = np.hstack((x[:,np.newaxis],y[:,np.newaxis]))\n",
    "\n",
    "plt.scatter(x,y)"
   ]
  },
  {
   "cell_type": "code",
   "execution_count": 44,
   "metadata": {},
   "outputs": [],
   "source": [
    " def gen_data(X,noise=0, #n_outliers=0, \n",
    "             random_state=0):\n",
    "    Q = X.T[0] * X.T[1] * X.T[2] ** 3  # X.T[0] = 2. / (3 * mu)\n",
    "    rnd = np.random.RandomState(random_state)\n",
    "    error = noise * rnd.randn(X.shape[0])\n",
    "    #outliers = rnd.randint(0, t.size, n_outliers)\n",
    "    #error[outliers] *= 10\n",
    "\n",
    "    return Q + error"
   ]
  },
  {
   "cell_type": "code",
   "execution_count": 45,
   "metadata": {},
   "outputs": [
    {
     "name": "stdout",
     "output_type": "stream",
     "text": [
      "Choose column from Index(['a', 'dp', 'h', 'red1', 'red2', 'red3', 'dp+h', 'dp*h',\n",
      "       'sqrt(dp)*h+exp(h)*dp**2', 'y_train'],\n",
      "      dtype='object') \n",
      "Total is 10\n",
      "Enter only digits:1110001101\n",
      "The attributes selected are Index(['a', 'dp', 'h', 'dp+h', 'dp*h', 'y_train'], dtype='object')\n"
     ]
    },
    {
     "data": {
      "text/html": [
       "<div>\n",
       "<style scoped>\n",
       "    .dataframe tbody tr th:only-of-type {\n",
       "        vertical-align: middle;\n",
       "    }\n",
       "\n",
       "    .dataframe tbody tr th {\n",
       "        vertical-align: top;\n",
       "    }\n",
       "\n",
       "    .dataframe thead th {\n",
       "        text-align: right;\n",
       "    }\n",
       "</style>\n",
       "<table border=\"1\" class=\"dataframe\">\n",
       "  <thead>\n",
       "    <tr style=\"text-align: right;\">\n",
       "      <th></th>\n",
       "      <th>a</th>\n",
       "      <th>dp</th>\n",
       "      <th>h</th>\n",
       "      <th>red1</th>\n",
       "      <th>red2</th>\n",
       "      <th>red3</th>\n",
       "      <th>dp+h</th>\n",
       "      <th>dp*h</th>\n",
       "      <th>sqrt(dp)*h+exp(h)*dp**2</th>\n",
       "      <th>y_train</th>\n",
       "    </tr>\n",
       "  </thead>\n",
       "  <tbody>\n",
       "    <tr>\n",
       "      <th>count</th>\n",
       "      <td>50000.000000</td>\n",
       "      <td>50000.000000</td>\n",
       "      <td>50000.000000</td>\n",
       "      <td>50000.000000</td>\n",
       "      <td>50000.000000</td>\n",
       "      <td>50000.000000</td>\n",
       "      <td>50000.000000</td>\n",
       "      <td>50000.000000</td>\n",
       "      <td>50000.000000</td>\n",
       "      <td>50000.000000</td>\n",
       "    </tr>\n",
       "    <tr>\n",
       "      <th>mean</th>\n",
       "      <td>1.552328</td>\n",
       "      <td>1.548484</td>\n",
       "      <td>1.549477</td>\n",
       "      <td>1.552231</td>\n",
       "      <td>1.557139</td>\n",
       "      <td>1.553571</td>\n",
       "      <td>3.097961</td>\n",
       "      <td>2.396580</td>\n",
       "      <td>22.020000</td>\n",
       "      <td>16.736888</td>\n",
       "    </tr>\n",
       "    <tr>\n",
       "      <th>std</th>\n",
       "      <td>0.837495</td>\n",
       "      <td>0.836141</td>\n",
       "      <td>0.837220</td>\n",
       "      <td>0.836886</td>\n",
       "      <td>0.838756</td>\n",
       "      <td>0.834842</td>\n",
       "      <td>1.180910</td>\n",
       "      <td>1.955536</td>\n",
       "      <td>28.231539</td>\n",
       "      <td>27.524510</td>\n",
       "    </tr>\n",
       "    <tr>\n",
       "      <th>min</th>\n",
       "      <td>0.100145</td>\n",
       "      <td>0.100091</td>\n",
       "      <td>0.100017</td>\n",
       "      <td>0.100024</td>\n",
       "      <td>0.100037</td>\n",
       "      <td>0.100067</td>\n",
       "      <td>0.220042</td>\n",
       "      <td>0.012027</td>\n",
       "      <td>0.050513</td>\n",
       "      <td>-0.324576</td>\n",
       "    </tr>\n",
       "    <tr>\n",
       "      <th>25%</th>\n",
       "      <td>0.828249</td>\n",
       "      <td>0.824821</td>\n",
       "      <td>0.826110</td>\n",
       "      <td>0.831683</td>\n",
       "      <td>0.832746</td>\n",
       "      <td>0.834455</td>\n",
       "      <td>2.246583</td>\n",
       "      <td>0.786694</td>\n",
       "      <td>3.746293</td>\n",
       "      <td>0.705060</td>\n",
       "    </tr>\n",
       "    <tr>\n",
       "      <th>50%</th>\n",
       "      <td>1.555304</td>\n",
       "      <td>1.549505</td>\n",
       "      <td>1.549549</td>\n",
       "      <td>1.554555</td>\n",
       "      <td>1.560352</td>\n",
       "      <td>1.554183</td>\n",
       "      <td>3.096212</td>\n",
       "      <td>1.853881</td>\n",
       "      <td>10.907733</td>\n",
       "      <td>4.902508</td>\n",
       "    </tr>\n",
       "    <tr>\n",
       "      <th>75%</th>\n",
       "      <td>2.275450</td>\n",
       "      <td>2.269600</td>\n",
       "      <td>2.275488</td>\n",
       "      <td>2.280282</td>\n",
       "      <td>2.286842</td>\n",
       "      <td>2.276296</td>\n",
       "      <td>3.945308</td>\n",
       "      <td>3.587736</td>\n",
       "      <td>28.250031</td>\n",
       "      <td>20.054569</td>\n",
       "    </tr>\n",
       "    <tr>\n",
       "      <th>max</th>\n",
       "      <td>2.999975</td>\n",
       "      <td>2.999999</td>\n",
       "      <td>2.999975</td>\n",
       "      <td>2.999871</td>\n",
       "      <td>2.999952</td>\n",
       "      <td>2.999964</td>\n",
       "      <td>5.977110</td>\n",
       "      <td>8.931434</td>\n",
       "      <td>182.212647</td>\n",
       "      <td>230.371688</td>\n",
       "    </tr>\n",
       "  </tbody>\n",
       "</table>\n",
       "</div>"
      ],
      "text/plain": [
       "                  a            dp             h          red1          red2  \\\n",
       "count  50000.000000  50000.000000  50000.000000  50000.000000  50000.000000   \n",
       "mean       1.552328      1.548484      1.549477      1.552231      1.557139   \n",
       "std        0.837495      0.836141      0.837220      0.836886      0.838756   \n",
       "min        0.100145      0.100091      0.100017      0.100024      0.100037   \n",
       "25%        0.828249      0.824821      0.826110      0.831683      0.832746   \n",
       "50%        1.555304      1.549505      1.549549      1.554555      1.560352   \n",
       "75%        2.275450      2.269600      2.275488      2.280282      2.286842   \n",
       "max        2.999975      2.999999      2.999975      2.999871      2.999952   \n",
       "\n",
       "               red3          dp+h          dp*h  sqrt(dp)*h+exp(h)*dp**2  \\\n",
       "count  50000.000000  50000.000000  50000.000000             50000.000000   \n",
       "mean       1.553571      3.097961      2.396580                22.020000   \n",
       "std        0.834842      1.180910      1.955536                28.231539   \n",
       "min        0.100067      0.220042      0.012027                 0.050513   \n",
       "25%        0.834455      2.246583      0.786694                 3.746293   \n",
       "50%        1.554183      3.096212      1.853881                10.907733   \n",
       "75%        2.276296      3.945308      3.587736                28.250031   \n",
       "max        2.999964      5.977110      8.931434               182.212647   \n",
       "\n",
       "            y_train  \n",
       "count  50000.000000  \n",
       "mean      16.736888  \n",
       "std       27.524510  \n",
       "min       -0.324576  \n",
       "25%        0.705060  \n",
       "50%        4.902508  \n",
       "75%       20.054569  \n",
       "max      230.371688  "
      ]
     },
     "execution_count": 45,
     "metadata": {},
     "output_type": "execute_result"
    }
   ],
   "source": [
    "n_samples = 50000\n",
    "n_cols = 6\n",
    "X = np.random.uniform(0.1,3,(n_samples,n_cols))\n",
    "columns = np.array(['a',\"dp\",'h',\"red1\",\"red2\",\"red3\"])\n",
    "df = pd.DataFrame(X,columns=columns)\n",
    "\n",
    "df[\"dp+h\"] = X.T[1] + X.T[2]\n",
    "df[\"dp*h\"] = np.multiply(X.T[1],X.T[2])\n",
    "df[\"sqrt(dp)*h+exp(h)*dp**2\"] = np.sqrt(X.T[1]) * X.T[2] + np.multiply(np.exp(X.T[2]),np.square(X.T[1]))\n",
    "\n",
    "y_train = gen_data(X,noise=0.1)\n",
    "df[\"y_train\"] = y_train\n",
    "\n",
    "columns = df.columns\n",
    "n_cols = len(columns)\n",
    "print(\"Choose column from\",columns,\"\\nTotal is\", n_cols)\n",
    "\n",
    "sen = input(\"Enter only digits:\")\n",
    "if sen: \n",
    "    if len(sen) < n_cols: sen += \"0\" * (n_cols - len(sen)) #padding\n",
    "    selected = np.array(list(sen),dtype=int)[:n_cols]\n",
    "else: \n",
    "    selected = np.array([1,1,1] + [0]* (n_cols - 4) + [1])\n",
    "data = df[columns[selected > 0]].values\n",
    "print(\"The attributes selected are\", columns[selected > 0])\n",
    "df.describe()"
   ]
  },
  {
   "cell_type": "code",
   "execution_count": 46,
   "metadata": {},
   "outputs": [],
   "source": [
    "bc = BC(data,finness=\"pdist\")\n",
    "out = \"CFD\"\n",
    "x,y = bc.get_points(40,out=out)"
   ]
  },
  {
   "cell_type": "code",
   "execution_count": 47,
   "metadata": {},
   "outputs": [
    {
     "data": {
      "text/plain": [
       "array([15.513963  , -0.95403054, -0.04594055, 15.32887345])"
      ]
     },
     "execution_count": 47,
     "metadata": {},
     "output_type": "execute_result"
    }
   ],
   "source": [
    "res_lsq = least_squares(fun,x0,jac=jac_fun,args=(x, y))\n",
    "res_lsq.x"
   ]
  },
  {
   "cell_type": "code",
   "execution_count": 48,
   "metadata": {},
   "outputs": [
    {
     "name": "stdout",
     "output_type": "stream",
     "text": [
      "The value of dmsigma in the focal point is 3.7001986161043527\n"
     ]
    },
    {
     "data": {
      "image/png": "[encoded data removed]",
      "text/plain": [
       "<Figure size 432x288 with 1 Axes>"
      ]
     },
     "metadata": {},
     "output_type": "display_data"
    }
   ],
   "source": [
    "line1, = plt.plot(x,y,'o',mfc='none')\n",
    "plt.title(\"Box Counting\")\n",
    "plt.xlabel(\"log_2(1/eps)\")\n",
    "plt.ylabel(\"log_2(N(eps))\")\n",
    "line2, = plt.plot(x,msigma(x,*res_lsq.x))\n",
    "\n",
    "try: coefs\n",
    "except NameError: \n",
    "    coefs = [0,0]\n",
    "    print(\"coefs is not defined, so the correct value of FD will not be displayed.\\\n",
    "    \\nExecute the next block of code and then try again.\\n\")\n",
    "    \n",
    "plt.text(min(x)+1,max(y)-1,\"FD ={:.2f}\".format(coefs[0]),fontsize=15)\n",
    "plt.legend((line1,line2),(\"D_2\",\"sigmoid function\"),loc=4)\n",
    "print(\"The value of dmsigma in the focal point is\",dmsigma(-res_lsq.x[2]/res_lsq.x[1],*res_lsq.x))\n",
    "plt.savefig(\"bc_plot.png\",dpi=1000)\n",
    "del coefs"
   ]
  },
  {
   "cell_type": "code",
   "execution_count": 53,
   "metadata": {},
   "outputs": [
    {
     "name": "stdout",
     "output_type": "stream",
     "text": [
      "Enter the boundary values separated by space:-1 1\n",
      "Capacity dimension is 3.1563145583977006\n",
      "The current spacing limits are: -1.0 1.0\n"
     ]
    }
   ],
   "source": [
    "mask = np.ones(x.shape,dtype=bool)\n",
    "sen = input(\"Enter the boundary values separated by space:\")\n",
    "if sen:\n",
    "    l,r = map(float,sen.split())\n",
    "mask[x < l] = False\n",
    "mask[x > r] = False\n",
    "coefs = np.polyfit(x[mask],y[mask],deg=1)\n",
    "print(\"Capacity dimension is\",coefs[0])\n",
    "print(\"The current spacing limits are:\", l, r)"
   ]
  },
  {
   "cell_type": "code",
   "execution_count": null,
   "metadata": {},
   "outputs": [],
   "source": []
  }
 ],
 "metadata": {
  "kernelspec": {
   "display_name": "Python 3",
   "language": "python",
   "name": "python3"
  },
  "language_info": {
   "codemirror_mode": {
    "name": "ipython",
    "version": 3
   },
   "file_extension": ".py",
   "mimetype": "text/x-python",
   "name": "python",
   "nbconvert_exporter": "python",
   "pygments_lexer": "ipython3",
   "version": "3.6.5"
  }
 },
 "nbformat": 4,
 "nbformat_minor": 2
}
